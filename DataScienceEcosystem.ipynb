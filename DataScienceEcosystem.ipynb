{
 "cells": [
  {
   "cell_type": "markdown",
   "id": "85cf18e0",
   "metadata": {},
   "source": [
    "# Data Science Tools and Ecosystem "
   ]
  },
  {
   "cell_type": "markdown",
   "id": "08ae6fef",
   "metadata": {},
   "source": [
    "In this notebook, Data Science, Tools and Ecosystem are summarized."
   ]
  },
  {
   "cell_type": "markdown",
   "id": "f4c4f13b",
   "metadata": {},
   "source": [
    "**Objectives:**\n",
    "\n",
    "    + List Popular Languages for Data Science\n",
    "    + List Commonly Used Libraries for Data Science\n",
    "    + List Data Science Tools for Data Science\n",
    "    + Demonstrate how to evaluate arithmitic data tools in Python"
   ]
  },
  {
   "cell_type": "markdown",
   "id": "16423d7e",
   "metadata": {},
   "source": [
    "Some of the popular languages that Data Scientist use are: \n",
    "\n",
    "1. Python \n",
    "2. SQL \n",
    "3. R \n",
    "4. Java \n",
    "5. Javascript \n",
    "6. HTML"
   ]
  },
  {
   "cell_type": "markdown",
   "id": "c7034af0",
   "metadata": {},
   "source": [
    "Some of the commonly used libraries used by Data Scientist include: \n",
    "1. TensorFlow\n",
    "2. Pytorch\n",
    "3. SciPy\n",
    "4. Matplotlib"
   ]
  },
  {
   "cell_type": "markdown",
   "id": "3a77d404",
   "metadata": {},
   "source": [
    "|Data Science Tools|\n",
    "|-----------|\n",
    "|Watson Studio|\n",
    "|Jupyter|\n",
    "|RStudio|\n",
    "|Apache|\n",
    "|Git|"
   ]
  },
  {
   "cell_type": "markdown",
   "id": "daf8464a",
   "metadata": {},
   "source": [
    "### Below are a few examples of evaluating arithmetic expressions in Python"
   ]
  },
  {
   "cell_type": "markdown",
   "id": "0cd35466",
   "metadata": {},
   "source": [
    "This is a simple arithmetic expression to multiply then add integers"
   ]
  },
  {
   "cell_type": "code",
   "execution_count": 2,
   "id": "2f8a7165",
   "metadata": {},
   "outputs": [
    {
     "data": {
      "text/plain": [
       "17"
      ]
     },
     "execution_count": 2,
     "metadata": {},
     "output_type": "execute_result"
    }
   ],
   "source": [
    "(3*4)+5"
   ]
  },
  {
   "cell_type": "markdown",
   "id": "f5ddb5e1",
   "metadata": {},
   "source": [
    "This will convert 200 minutes to hours by divding by 60"
   ]
  },
  {
   "cell_type": "code",
   "execution_count": 16,
   "id": "7f9140a6",
   "metadata": {},
   "outputs": [
    {
     "data": {
      "text/plain": [
       "3.3333333333333335"
      ]
     },
     "execution_count": 16,
     "metadata": {},
     "output_type": "execute_result"
    }
   ],
   "source": [
    "200*(1/60)"
   ]
  },
  {
   "cell_type": "markdown",
   "id": "b70df2fa",
   "metadata": {},
   "source": [
    "## Author\n",
    "Fabian Bowman "
   ]
  }
 ],
 "metadata": {
  "kernelspec": {
   "display_name": "Python 3 (ipykernel)",
   "language": "python",
   "name": "python3"
  },
  "language_info": {
   "codemirror_mode": {
    "name": "ipython",
    "version": 3
   },
   "file_extension": ".py",
   "mimetype": "text/x-python",
   "name": "python",
   "nbconvert_exporter": "python",
   "pygments_lexer": "ipython3",
   "version": "3.10.11"
  }
 },
 "nbformat": 4,
 "nbformat_minor": 5
}
